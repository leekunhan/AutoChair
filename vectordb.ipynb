{
 "cells": [
  {
   "cell_type": "code",
   "execution_count": 16,
   "metadata": {},
   "outputs": [],
   "source": [
    "import os\n",
    "import getpass\n",
    "from dotenv import load_dotenv\n",
    "\n",
    "load_dotenv()\n",
    "\n",
    "# api_key = os.getenv(\"OPENAI_API_KEY\")\n",
    "\n",
    "if not os.getenv(\"OPENAI_API_KEY\"):\n",
    "  os.environ[\"OPENAI_API_KEY\"] = getpass.getpass(\"Enter API key for OpenAI: \")\n",
    "\n",
    "\n",
    "\n",
    "from langchain_openai import OpenAIEmbeddings\n",
    "\n",
    "embeddings = OpenAIEmbeddings(model=\"text-embedding-3-large\")\n",
    "\n",
    "import faiss\n",
    "from langchain_community.docstore.in_memory import InMemoryDocstore\n",
    "from langchain_community.vectorstores import FAISS\n",
    "\n",
    "index = faiss.IndexFlatL2(len(embeddings.embed_query(\"hello world\")))\n",
    "\n",
    "vector_store = FAISS(\n",
    "    embedding_function=embeddings,\n",
    "    index=index,\n",
    "    docstore=InMemoryDocstore(),\n",
    "    index_to_docstore_id={},\n",
    ")"
   ]
  },
  {
   "cell_type": "code",
   "execution_count": 17,
   "metadata": {},
   "outputs": [],
   "source": [
    "from uuid import uuid4\n",
    "\n",
    "from langchain_core.documents import Document\n",
    "\n",
    "infinite_max_document_1 = Document(\n",
    "    page_content=\"\"\"不只大，要就最大，無限MAX 超跑人體工學椅，我們累計了銷售10,000+的消費者使用體驗，並針對大家最重視的腰部支撐再進化！寬度、高度與厚度同步加大，完全滿足 '' 支撐加倍 X 舒適加倍 ''\"\"\",\n",
    "    metadata={\"source\": \"https://www.marsrhino.com/tw/product_detail?id=54&class_id=13\",\n",
    "              \"chair\": \"infinite_max\",\n",
    "              \"max_weight\": 150,\n",
    "              \"has_waist_support\": True,\n",
    "              \"image_path\": \"/home/kh/AutoChair/chair_image/infinite_max.jpg\"\n",
    "              }\n",
    ")\n",
    "\n",
    "infinite_max_document_2 = Document(\n",
    "    page_content=\"\"\"3D ''大'' 體感腰靠，藉由腰靠的高低、前後手動調整，及對應腰部曲線角度自動旋轉，完美支撐腰部，達到舒適與放鬆。\"\"\",\n",
    "    metadata={\"source\": \"https://www.marsrhino.com/tw/product_detail?id=54&class_id=13\",\n",
    "              \"chair\": \"infinite_max\",\n",
    "              \"max_weight\": 150,\n",
    "              \"has_waist_support\": True,\n",
    "              \"image_path\": \"/home/kh/AutoChair/chair_image/infinite_max.jpg\"\n",
    "              }\n",
    ")\n",
    "\n",
    "infinite_max_document_3 = Document(\n",
    "    page_content=\"\"\"\n",
    "                建議身形 身高 : 165 - 200cm,\n",
    "                最大承重 150kg,\n",
    "                頭枕 / 椅背 / 椅座 ( 獨創透氣紓壓技術 )\n",
    "                表層 : 防潑水彈性布\n",
    "                內層 : 高密度泡棉\n",
    "                底層 : 透氣網布\n",
    "                \"\"\",\n",
    "    metadata={\"source\": \"https://www.marsrhino.com/tw/product_detail?id=54&class_id=13\",\n",
    "              \"chair\": \"infinite_max\",\n",
    "              \"max_weight\": 150,\n",
    "              \"has_waist_support\": True,\n",
    "              \"image_path\": \"/home/kh/AutoChair/chair_image/infinite_max.jpg\"\n",
    "              }\n",
    ")"
   ]
  },
  {
   "cell_type": "code",
   "execution_count": 18,
   "metadata": {},
   "outputs": [
    {
     "data": {
      "text/plain": [
       "['02a9066a-1f47-42de-ae6a-0ba09ae4bc1e',\n",
       " '35827828-273a-4831-862f-60411d36f619',\n",
       " '649a513f-50b2-4ac2-844a-c4ae74657291']"
      ]
     },
     "execution_count": 18,
     "metadata": {},
     "output_type": "execute_result"
    }
   ],
   "source": [
    "\n",
    "documents = [\n",
    "    infinite_max_document_1,\n",
    "    infinite_max_document_2,\n",
    "    infinite_max_document_3\n",
    "]\n",
    "uuids = [str(uuid4()) for _ in range(len(documents))]\n",
    "\n",
    "vector_store.add_documents(documents=documents, ids=uuids)"
   ]
  },
  {
   "cell_type": "code",
   "execution_count": 19,
   "metadata": {},
   "outputs": [
    {
     "name": "stdout",
     "output_type": "stream",
     "text": [
      "* 不只大，要就最大，無限MAX 超跑人體工學椅，我們累計了銷售10,000+的消費者使用體驗，並針對大家最重視的腰部支撐再進化！寬度、高度與厚度同步加大，完全滿足 '' 支撐加倍 X 舒適加倍 '' [{'source': 'https://www.marsrhino.com/tw/product_detail?id=54&class_id=13', 'chair': 'infinite_max', 'max_weight': 150, 'has_waist_support': True, 'image_path': '/home/kh/AutoChair/chair_image/infinite_max.jpg'}]\n",
      "\n",
      "* 3D ''大'' 體感腰靠，藉由腰靠的高低、前後手動調整，及對應腰部曲線角度自動旋轉，完美支撐腰部，達到舒適與放鬆。 [{'source': 'https://www.marsrhino.com/tw/product_detail?id=54&class_id=13', 'chair': 'infinite_max', 'max_weight': 150, 'has_waist_support': True, 'image_path': '/home/kh/AutoChair/chair_image/infinite_max.jpg'}]\n",
      "\n"
     ]
    }
   ],
   "source": [
    "results = vector_store.similarity_search(\n",
    "    \"我想要有大腰靠的椅子\",\n",
    "    k=2,\n",
    "    filter={\"has_waist_support\": True},\n",
    ")\n",
    "for res in results:\n",
    "    print(f\"* {res.page_content} [{res.metadata}]\")\n",
    "    if res.metadata.get(\"image_path\"):\n",
    "        from PIL import Image\n",
    "        Image.open(res.metadata[\"image_path\"]).show()\n",
    "    print(\"\")\n"
   ]
  },
  {
   "cell_type": "code",
   "execution_count": 21,
   "metadata": {},
   "outputs": [
    {
     "data": {
      "text/plain": [
       "'/home/kh/AutoChair/chair_image/infinite_max.jpg'"
      ]
     },
     "execution_count": 21,
     "metadata": {},
     "output_type": "execute_result"
    }
   ],
   "source": [
    "infinite_max_document_1.metadata[\"image_path\"]"
   ]
  },
  {
   "cell_type": "code",
   "execution_count": 6,
   "metadata": {},
   "outputs": [],
   "source": [
    "results = vector_store.similarity_search(\n",
    "    \"LangChain 提供抽象概念，讓 LLM 的使用變得簡單\",\n",
    "    k=2,\n",
    "    filter={\"source\": {\"$eq\": \"tweet\"}},\n",
    ")\n",
    "for res in results:\n",
    "    print(f\"* {res.page_content} [{res.metadata}]\")"
   ]
  },
  {
   "cell_type": "code",
   "execution_count": 17,
   "metadata": {},
   "outputs": [
    {
     "name": "stdout",
     "output_type": "stream",
     "text": [
      "* [SIM=0.850298] 明天的天氣預報為陰天，最高氣溫為 62 度。 [{'source': 'news'}]\n"
     ]
    }
   ],
   "source": [
    "results = vector_store.similarity_search_with_score(\n",
    "    \"明天會很熱嗎？\", k=1, filter={\"source\": \"news\"}\n",
    ")\n",
    "for res, score in results:\n",
    "    print(f\"* [SIM={score:3f}] {res.page_content} [{res.metadata}]\")"
   ]
  },
  {
   "cell_type": "code",
   "execution_count": 18,
   "metadata": {},
   "outputs": [
    {
     "data": {
      "text/plain": [
       "[Document(id='a3f0e53e-bd3a-455d-b808-e39350a7f63f', metadata={'source': 'news'}, page_content='劫匪闖入市銀行偷走了 100 萬美元現金。')]"
      ]
     },
     "execution_count": 18,
     "metadata": {},
     "output_type": "execute_result"
    }
   ],
   "source": [
    "retriever = vector_store.as_retriever(search_type=\"mmr\", search_kwargs={\"k\": 1})\n",
    "retriever.invoke(\"偷銀行錢是犯罪行為\", filter={\"source\": \"news\"})"
   ]
  },
  {
   "cell_type": "code",
   "execution_count": 21,
   "metadata": {},
   "outputs": [],
   "source": [
    "vector_store.save_local(\"chairDB\")\n",
    "\n",
    "new_vector_store = FAISS.load_local(\n",
    "    \"chairDB\", \n",
    "    embeddings, \n",
    "    allow_dangerous_deserialization=True\n",
    ")\n",
    "\n",
    "docs = new_vector_store.similarity_search(\"qux\")"
   ]
  },
  {
   "cell_type": "code",
   "execution_count": 20,
   "metadata": {},
   "outputs": [
    {
     "data": {
      "text/plain": [
       "Document(id='65a6e4fd-49a0-4480-94aa-005f4e73e4b0', metadata={'source': 'tweet'}, page_content='使用 LangChain 建立一個令人興奮的新專案 - 快來看看吧！')"
      ]
     },
     "execution_count": 20,
     "metadata": {},
     "output_type": "execute_result"
    }
   ],
   "source": [
    "docs[0]"
   ]
  }
 ],
 "metadata": {
  "kernelspec": {
   "display_name": "Python 3",
   "language": "python",
   "name": "python3"
  },
  "language_info": {
   "codemirror_mode": {
    "name": "ipython",
    "version": 3
   },
   "file_extension": ".py",
   "mimetype": "text/x-python",
   "name": "python",
   "nbconvert_exporter": "python",
   "pygments_lexer": "ipython3",
   "version": "3.12.3"
  }
 },
 "nbformat": 4,
 "nbformat_minor": 2
}
